{
 "cells": [
  {
   "cell_type": "code",
   "execution_count": 135,
   "metadata": {},
   "outputs": [],
   "source": [
    "import xml.etree.cElementTree as ET\n",
    "\n",
    "# f = '\\n'.join(open('7.xml', encoding='windows-1251').readlines())\n",
    "# print(f)"
   ]
  },
  {
   "cell_type": "code",
   "execution_count": 138,
   "metadata": {},
   "outputs": [],
   "source": [
    "tree = ET.parse('11.xml')\n",
    "questions = tree.findall('question')\n",
    "\n",
    "qs = []\n",
    "\n",
    "for i, q in enumerate(questions):\n",
    "    q1 = {}\n",
    "    q1['text'] = q.find('text').text[1:]\n",
    "    q1['type'] = q.find('type').text\n",
    "    q1['valid_answer'] = q.find('answers/answer[@valid=\"1\"]').text\n",
    "    qs.append(q1)\n",
    "# print(*qs, sep='\\n')"
   ]
  },
  {
   "cell_type": "code",
   "execution_count": 137,
   "metadata": {},
   "outputs": [],
   "source": [
    "cat = 'test'\n",
    "\n",
    "moodle = open('moodle.xml', mode='w')\n",
    "moodle.write('<?xml version=\"1.0\" ?><quiz>\\n')\n",
    "moodle.write('''\n",
    "    <question type=\"category\">\n",
    "        <category>\n",
    "            <text>$course$/''' + cat + '''</text>\n",
    "        </category>\n",
    "    </question>''')\n",
    "for i, q in enumerate(qs):\n",
    "    qname = cat + '-' + str(i)\n",
    "    moodle.write('''\n",
    "    <question type=\"shortanswer\">\n",
    "        <tag>\n",
    "            <text>NetTest</text>\n",
    "        </tag>\n",
    "        <name>\n",
    "            <text>''' + qname + '''</text>\n",
    "        </name>\n",
    "        <questiontext format=\"html\">\n",
    "            <text>''' + qs[0]['text'] + '''</text>\n",
    "        </questiontext>\n",
    "        <answer fraction=\"100\">\n",
    "            <text>''' + qs[0]['valid_answer'] + '''</text>\n",
    "            <feedback><text>Верно!</text></feedback>\n",
    "        </answer>\n",
    "    </question>\n",
    "''')\n",
    "\n",
    "\n",
    "moodle.write('</quiz>')\n",
    "moodle.close()"
   ]
  }
 ],
 "metadata": {
  "kernelspec": {
   "display_name": "Python 3",
   "language": "python",
   "name": "python3"
  },
  "language_info": {
   "codemirror_mode": {
    "name": "ipython",
    "version": 3
   },
   "file_extension": ".py",
   "mimetype": "text/x-python",
   "name": "python",
   "nbconvert_exporter": "python",
   "pygments_lexer": "ipython3",
   "version": "3.10.6"
  },
  "orig_nbformat": 4,
  "vscode": {
   "interpreter": {
    "hash": "916dbcbb3f70747c44a77c7bcd40155683ae19c65e1c03b4aa3499c5328201f1"
   }
  }
 },
 "nbformat": 4,
 "nbformat_minor": 2
}
